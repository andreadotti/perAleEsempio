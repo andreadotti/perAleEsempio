{
 "cells": [
  {
   "cell_type": "code",
   "execution_count": 1,
   "metadata": {
    "ExecuteTime": {
     "end_time": "2020-04-19T13:14:38.614797Z",
     "start_time": "2020-04-19T13:14:37.854800Z"
    }
   },
   "outputs": [],
   "source": [
    "import matplotlib.pyplot as plt\n",
    "import pandas as pd\n",
    "import numpy as np\n",
    "from scipy.optimize import curve_fit #Questo e' qullo importante"
   ]
  },
  {
   "cell_type": "markdown",
   "metadata": {},
   "source": [
    "# Ground truth\n",
    "Faccio una simulazioncina \"ad minchiam\"\n",
    "con:\n",
    " 1. `s{i,d,f}` : salario di `i`mpiegati, `d`irigienti, `f`unzionari\n",
    " 2. `n{i,d,f}` : numero di `i`,`d` e `f`"
   ]
  },
  {
   "cell_type": "code",
   "execution_count": 16,
   "metadata": {
    "ExecuteTime": {
     "end_time": "2020-04-19T13:18:44.717903Z",
     "start_time": "2020-04-19T13:18:44.703902Z"
    }
   },
   "outputs": [
    {
     "data": {
      "text/html": [
       "<div>\n",
       "<style scoped>\n",
       "    .dataframe tbody tr th:only-of-type {\n",
       "        vertical-align: middle;\n",
       "    }\n",
       "\n",
       "    .dataframe tbody tr th {\n",
       "        vertical-align: top;\n",
       "    }\n",
       "\n",
       "    .dataframe thead th {\n",
       "        text-align: right;\n",
       "    }\n",
       "</style>\n",
       "<table border=\"1\" class=\"dataframe\">\n",
       "  <thead>\n",
       "    <tr style=\"text-align: right;\">\n",
       "      <th></th>\n",
       "      <th>year</th>\n",
       "      <th>si</th>\n",
       "      <th>sd</th>\n",
       "      <th>sf</th>\n",
       "      <th>ni</th>\n",
       "      <th>nd</th>\n",
       "      <th>nf</th>\n",
       "    </tr>\n",
       "  </thead>\n",
       "  <tbody>\n",
       "    <tr>\n",
       "      <th>0</th>\n",
       "      <td>2017</td>\n",
       "      <td>1.00</td>\n",
       "      <td>1.30</td>\n",
       "      <td>1.50</td>\n",
       "      <td>100</td>\n",
       "      <td>10</td>\n",
       "      <td>4</td>\n",
       "    </tr>\n",
       "    <tr>\n",
       "      <th>1</th>\n",
       "      <td>2018</td>\n",
       "      <td>1.02</td>\n",
       "      <td>1.33</td>\n",
       "      <td>1.53</td>\n",
       "      <td>110</td>\n",
       "      <td>11</td>\n",
       "      <td>4</td>\n",
       "    </tr>\n",
       "    <tr>\n",
       "      <th>2</th>\n",
       "      <td>2019</td>\n",
       "      <td>1.04</td>\n",
       "      <td>1.35</td>\n",
       "      <td>1.56</td>\n",
       "      <td>105</td>\n",
       "      <td>10</td>\n",
       "      <td>4</td>\n",
       "    </tr>\n",
       "    <tr>\n",
       "      <th>3</th>\n",
       "      <td>2020</td>\n",
       "      <td>1.06</td>\n",
       "      <td>1.38</td>\n",
       "      <td>1.59</td>\n",
       "      <td>106</td>\n",
       "      <td>10</td>\n",
       "      <td>5</td>\n",
       "    </tr>\n",
       "  </tbody>\n",
       "</table>\n",
       "</div>"
      ],
      "text/plain": [
       "   year    si    sd    sf   ni  nd  nf\n",
       "0  2017  1.00  1.30  1.50  100  10   4\n",
       "1  2018  1.02  1.33  1.53  110  11   4\n",
       "2  2019  1.04  1.35  1.56  105  10   4\n",
       "3  2020  1.06  1.38  1.59  106  10   5"
      ]
     },
     "execution_count": 16,
     "metadata": {},
     "output_type": "execute_result"
    }
   ],
   "source": [
    "gt = pd.DataFrame({\"year\":[2017,2018,2019,2020],\"si\":[1,1.02,1.04,1.06],\"sd\":[1.3,1.33,1.35,1.38],\"sf\":[1.5,1.53,1.56,1.59],\"ni\":[100,110,105,106],\"nd\":[10,11,10,10],\"nf\":[4,4,4,5]})\n",
    "gt\n"
   ]
  },
  {
   "cell_type": "markdown",
   "metadata": {},
   "source": [
    "Calcolo il salario totale che piu' semplice di cosi' si muore"
   ]
  },
  {
   "cell_type": "code",
   "execution_count": 18,
   "metadata": {
    "ExecuteTime": {
     "end_time": "2020-04-19T13:18:48.785141Z",
     "start_time": "2020-04-19T13:18:48.779153Z"
    }
   },
   "outputs": [],
   "source": [
    "gt['s'] = (gt['si']*gt['ni']+gt['sd']*gt['nd']+gt['sf']*gt['nf'])"
   ]
  },
  {
   "cell_type": "code",
   "execution_count": 19,
   "metadata": {
    "ExecuteTime": {
     "end_time": "2020-04-19T13:18:49.233568Z",
     "start_time": "2020-04-19T13:18:49.223555Z"
    }
   },
   "outputs": [
    {
     "data": {
      "text/html": [
       "<div>\n",
       "<style scoped>\n",
       "    .dataframe tbody tr th:only-of-type {\n",
       "        vertical-align: middle;\n",
       "    }\n",
       "\n",
       "    .dataframe tbody tr th {\n",
       "        vertical-align: top;\n",
       "    }\n",
       "\n",
       "    .dataframe thead th {\n",
       "        text-align: right;\n",
       "    }\n",
       "</style>\n",
       "<table border=\"1\" class=\"dataframe\">\n",
       "  <thead>\n",
       "    <tr style=\"text-align: right;\">\n",
       "      <th></th>\n",
       "      <th>year</th>\n",
       "      <th>si</th>\n",
       "      <th>sd</th>\n",
       "      <th>sf</th>\n",
       "      <th>ni</th>\n",
       "      <th>nd</th>\n",
       "      <th>nf</th>\n",
       "      <th>s</th>\n",
       "    </tr>\n",
       "  </thead>\n",
       "  <tbody>\n",
       "    <tr>\n",
       "      <th>0</th>\n",
       "      <td>2017</td>\n",
       "      <td>1.00</td>\n",
       "      <td>1.30</td>\n",
       "      <td>1.50</td>\n",
       "      <td>100</td>\n",
       "      <td>10</td>\n",
       "      <td>4</td>\n",
       "      <td>119.00</td>\n",
       "    </tr>\n",
       "    <tr>\n",
       "      <th>1</th>\n",
       "      <td>2018</td>\n",
       "      <td>1.02</td>\n",
       "      <td>1.33</td>\n",
       "      <td>1.53</td>\n",
       "      <td>110</td>\n",
       "      <td>11</td>\n",
       "      <td>4</td>\n",
       "      <td>132.95</td>\n",
       "    </tr>\n",
       "    <tr>\n",
       "      <th>2</th>\n",
       "      <td>2019</td>\n",
       "      <td>1.04</td>\n",
       "      <td>1.35</td>\n",
       "      <td>1.56</td>\n",
       "      <td>105</td>\n",
       "      <td>10</td>\n",
       "      <td>4</td>\n",
       "      <td>128.94</td>\n",
       "    </tr>\n",
       "    <tr>\n",
       "      <th>3</th>\n",
       "      <td>2020</td>\n",
       "      <td>1.06</td>\n",
       "      <td>1.38</td>\n",
       "      <td>1.59</td>\n",
       "      <td>106</td>\n",
       "      <td>10</td>\n",
       "      <td>5</td>\n",
       "      <td>134.11</td>\n",
       "    </tr>\n",
       "  </tbody>\n",
       "</table>\n",
       "</div>"
      ],
      "text/plain": [
       "   year    si    sd    sf   ni  nd  nf       s\n",
       "0  2017  1.00  1.30  1.50  100  10   4  119.00\n",
       "1  2018  1.02  1.33  1.53  110  11   4  132.95\n",
       "2  2019  1.04  1.35  1.56  105  10   4  128.94\n",
       "3  2020  1.06  1.38  1.59  106  10   5  134.11"
      ]
     },
     "execution_count": 19,
     "metadata": {},
     "output_type": "execute_result"
    }
   ],
   "source": [
    "gt"
   ]
  },
  {
   "cell_type": "markdown",
   "metadata": {},
   "source": [
    "Ecco questi sono i dati che ho, solo spesa totale in slarai e numeri di `i`, `d` e `f`"
   ]
  },
  {
   "cell_type": "code",
   "execution_count": 20,
   "metadata": {
    "ExecuteTime": {
     "end_time": "2020-04-19T13:18:50.419437Z",
     "start_time": "2020-04-19T13:18:50.409439Z"
    }
   },
   "outputs": [
    {
     "data": {
      "text/html": [
       "<div>\n",
       "<style scoped>\n",
       "    .dataframe tbody tr th:only-of-type {\n",
       "        vertical-align: middle;\n",
       "    }\n",
       "\n",
       "    .dataframe tbody tr th {\n",
       "        vertical-align: top;\n",
       "    }\n",
       "\n",
       "    .dataframe thead th {\n",
       "        text-align: right;\n",
       "    }\n",
       "</style>\n",
       "<table border=\"1\" class=\"dataframe\">\n",
       "  <thead>\n",
       "    <tr style=\"text-align: right;\">\n",
       "      <th></th>\n",
       "      <th>year</th>\n",
       "      <th>ni</th>\n",
       "      <th>nd</th>\n",
       "      <th>nf</th>\n",
       "      <th>s</th>\n",
       "    </tr>\n",
       "  </thead>\n",
       "  <tbody>\n",
       "    <tr>\n",
       "      <th>0</th>\n",
       "      <td>2017</td>\n",
       "      <td>100</td>\n",
       "      <td>10</td>\n",
       "      <td>4</td>\n",
       "      <td>119.00</td>\n",
       "    </tr>\n",
       "    <tr>\n",
       "      <th>1</th>\n",
       "      <td>2018</td>\n",
       "      <td>110</td>\n",
       "      <td>11</td>\n",
       "      <td>4</td>\n",
       "      <td>132.95</td>\n",
       "    </tr>\n",
       "    <tr>\n",
       "      <th>2</th>\n",
       "      <td>2019</td>\n",
       "      <td>105</td>\n",
       "      <td>10</td>\n",
       "      <td>4</td>\n",
       "      <td>128.94</td>\n",
       "    </tr>\n",
       "    <tr>\n",
       "      <th>3</th>\n",
       "      <td>2020</td>\n",
       "      <td>106</td>\n",
       "      <td>10</td>\n",
       "      <td>5</td>\n",
       "      <td>134.11</td>\n",
       "    </tr>\n",
       "  </tbody>\n",
       "</table>\n",
       "</div>"
      ],
      "text/plain": [
       "   year   ni  nd  nf       s\n",
       "0  2017  100  10   4  119.00\n",
       "1  2018  110  11   4  132.95\n",
       "2  2019  105  10   4  128.94\n",
       "3  2020  106  10   5  134.11"
      ]
     },
     "execution_count": 20,
     "metadata": {},
     "output_type": "execute_result"
    }
   ],
   "source": [
    "data = gt.loc[:,['year','ni','nd','nf','s']].copy()\n",
    "data"
   ]
  },
  {
   "cell_type": "markdown",
   "metadata": {},
   "source": [
    "# Modello e fit\n",
    "Ecco il modello una funzione che prende come input i dati `x`, e i parametri sono i salari da fittare."
   ]
  },
  {
   "cell_type": "code",
   "execution_count": 21,
   "metadata": {
    "ExecuteTime": {
     "end_time": "2020-04-19T13:18:51.511740Z",
     "start_time": "2020-04-19T13:18:51.507736Z"
    }
   },
   "outputs": [],
   "source": [
    "def model(x,sal_imp,sal_dir,sal_fun):\n",
    "    inf = 0.02 #Fisso qui, aggiunglo come parametro alla signature della funzione\n",
    "    tot_s = ( x['ni']*sal_imp + x['nd']*sal_dir + x['nf']*sal_fun )*(1+inf)**(x['year']-2017)\n",
    "    return tot_s"
   ]
  },
  {
   "cell_type": "markdown",
   "metadata": {},
   "source": [
    "Ora faccio il fit con `scipy.optimize.curve_fit` passando il modello , le variabili e il target. Devo anche passare un valore iniziale al fit. Che puo' essere anche `None` ma in questo caso gia' non riesco a ottenere un buon fit, qundi meglio passare dei valori sensati in input.  \n",
    "Posso volendo passare anche constrains qui le info https://docs.scipy.org/doc/scipy/reference/generated/scipy.optimize.curve_fit.html"
   ]
  },
  {
   "cell_type": "code",
   "execution_count": 22,
   "metadata": {
    "ExecuteTime": {
     "end_time": "2020-04-19T13:18:52.554812Z",
     "start_time": "2020-04-19T13:18:52.531812Z"
    }
   },
   "outputs": [
    {
     "data": {
      "text/plain": [
       "array([0.98538803, 1.46808133, 1.44782147])"
      ]
     },
     "execution_count": 22,
     "metadata": {},
     "output_type": "execute_result"
    }
   ],
   "source": [
    "initial_guess = (0.9,1.31,1.5) #I tre valori iniziali per si,sd,sf\n",
    "popt,pcov=curve_fit(model, xdata=data[['year','ni','nd','nf']], ydata=data['s'],p0=initial_guess, method='trf')#Notare il numero di parentesi quadre!\n",
    "popt"
   ]
  },
  {
   "cell_type": "markdown",
   "metadata": {},
   "source": [
    "Il risultato fa schifo, ho ho fatto un errore del minchia da qualche parte o c'e' poco da fare con questo esempio da tre numeri..."
   ]
  },
  {
   "cell_type": "code",
   "execution_count": null,
   "metadata": {},
   "outputs": [],
   "source": []
  }
 ],
 "metadata": {
  "hide_input": false,
  "kernelspec": {
   "display_name": "Python [conda env:pycourse] *",
   "language": "python",
   "name": "conda-env-pycourse-py"
  },
  "language_info": {
   "codemirror_mode": {
    "name": "ipython",
    "version": 3
   },
   "file_extension": ".py",
   "mimetype": "text/x-python",
   "name": "python",
   "nbconvert_exporter": "python",
   "pygments_lexer": "ipython3",
   "version": "3.7.3"
  },
  "toc": {
   "base_numbering": 1,
   "nav_menu": {},
   "number_sections": true,
   "sideBar": true,
   "skip_h1_title": false,
   "title_cell": "Table of Contents",
   "title_sidebar": "Contents",
   "toc_cell": false,
   "toc_position": {},
   "toc_section_display": true,
   "toc_window_display": false
  },
  "varInspector": {
   "cols": {
    "lenName": 16,
    "lenType": 16,
    "lenVar": 40
   },
   "kernels_config": {
    "python": {
     "delete_cmd_postfix": "",
     "delete_cmd_prefix": "del ",
     "library": "var_list.py",
     "varRefreshCmd": "print(var_dic_list())"
    },
    "r": {
     "delete_cmd_postfix": ") ",
     "delete_cmd_prefix": "rm(",
     "library": "var_list.r",
     "varRefreshCmd": "cat(var_dic_list()) "
    }
   },
   "types_to_exclude": [
    "module",
    "function",
    "builtin_function_or_method",
    "instance",
    "_Feature"
   ],
   "window_display": false
  }
 },
 "nbformat": 4,
 "nbformat_minor": 2
}
